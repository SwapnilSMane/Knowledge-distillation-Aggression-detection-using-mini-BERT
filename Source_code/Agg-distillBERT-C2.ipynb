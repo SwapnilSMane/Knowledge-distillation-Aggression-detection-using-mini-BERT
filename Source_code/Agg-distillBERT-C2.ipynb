{
 "cells": [
  {
   "cell_type": "code",
   "execution_count": 1,
   "metadata": {},
   "outputs": [],
   "source": [
    "# https://github.com/airaria/TextBrewer/blob/master/examples/notebook_examples/sst2.ipynb\n",
    "\n",
    "# TextBrewer -> https://aclanthology.org/2020.acl-demos.2.pdf "
   ]
  },
  {
   "cell_type": "code",
   "execution_count": 2,
   "metadata": {},
   "outputs": [],
   "source": [
    "import torch\n",
    "device='cuda' if torch.cuda.is_available() else 'cpu' "
   ]
  },
  {
   "cell_type": "code",
   "execution_count": 3,
   "metadata": {},
   "outputs": [],
   "source": [
    "# !pip install transformers==4.8.2\n",
    "# !pip install datasets\n",
    "# !pip install textbrewer"
   ]
  },
  {
   "cell_type": "code",
   "execution_count": 4,
   "metadata": {},
   "outputs": [
    {
     "name": "stderr",
     "output_type": "stream",
     "text": [
      "2022-05-01 21:02:30.301412: W tensorflow/stream_executor/platform/default/dso_loader.cc:64] Could not load dynamic library 'libcudart.so.11.0'; dlerror: libcudart.so.11.0: cannot open shared object file: No such file or directory\n",
      "2022-05-01 21:02:30.301455: I tensorflow/stream_executor/cuda/cudart_stub.cc:29] Ignore above cudart dlerror if you do not have a GPU set up on your machine.\n"
     ]
    }
   ],
   "source": [
    "import os\n",
    "import torch\n",
    "from transformers import BertForSequenceClassification, BertTokenizer,BertConfig\n",
    "from sklearn.metrics import accuracy_score, precision_recall_fscore_support, roc_auc_score\n",
    "from transformers import Trainer, TrainingArguments\n",
    "from datasets import load_dataset,load_metric\n",
    "from torch.utils.data import Dataset, DataLoader\n",
    "\n",
    "import pandas as pd\n",
    "import numpy as np\n",
    "\n",
    "import pyarrow as pa\n",
    "import pyarrow.dataset as ds\n",
    "import pandas as pd\n",
    "from datasets import Dataset\n",
    "from sklearn import preprocessing"
   ]
  },
  {
   "cell_type": "code",
   "execution_count": 4,
   "metadata": {},
   "outputs": [],
   "source": [
    "train = pd.read_csv('trac1-dataset/english_train/english/agr_en_train.csv',names=['ID','sentence','label'])\n",
    "val = pd.read_csv('trac1-dataset/english_train/english/agr_en_dev.csv',names=['ID','sentence','label'])\n",
    "test = pd.read_csv('trac1-dataset/trac-gold-set/agr_en_fb_gold.csv',names=['ID','sentence','label'])\n",
    "\n",
    "# To make binary class\n",
    "train = train.replace(to_replace =[\"OAG\",\"CAG\"],value =\"AG\")\n",
    "val = val.replace(to_replace =[\"OAG\",\"CAG\"],value =\"AG\")\n",
    "test = test.replace(to_replace =[\"OAG\",\"CAG\"],value =\"AG\")"
   ]
  },
  {
   "cell_type": "code",
   "execution_count": 5,
   "metadata": {},
   "outputs": [],
   "source": [
    "import re\n",
    "import emot.emo_unicode as emo_unicode\n",
    "from nltk.corpus import stopwords\n",
    "STOPWORDS = set(stopwords.words('english'))\n",
    "from string import digits\n",
    "\n",
    "def emoToText(text):\n",
    "    for em in emo_unicode.UNICODE_EMOJI:\n",
    "        text = text.replace(em,''.join(emo_unicode.UNICODE_EMOJI[em]).replace(\"_\",\" \").replace(\":\",\"\"))\n",
    "    text = text.lower()\n",
    "    return text"
   ]
  },
  {
   "cell_type": "code",
   "execution_count": 6,
   "metadata": {},
   "outputs": [],
   "source": [
    "def english_preprocessing(text_list):\n",
    "    \n",
    "    REPLACE_BY_SPACE_RE = re.compile('[/(){}\\[\\]\\|@,;].')\n",
    "#    BAD_SYMBOLS_RE = re.compile('[^0-9a-z #+_]')\n",
    "    punc = '''()-[]{};:'\"\\,<>./@#$%^&*_~'''\n",
    "    \n",
    "    regrex_pattern = re.compile(pattern = \"[\"\n",
    "    \"\\U0001F1E0-\\U0001F1FF\"  \n",
    "    \"\\U0001F300-\\U0001F5FF\"  \n",
    "    \"\\U0001F680-\\U0001F6FF\"  \n",
    "    \"\\U0001F700-\\U0001F77F\"  \n",
    "    \"\\U0001F780-\\U0001F7FF\"  \n",
    "    \"\\U0001F800-\\U0001F8FF\"  \n",
    "    \"\\U0001F900-\\U0001F9FF\"  \n",
    "    \"\\U0001FA00-\\U0001FA6F\"  \n",
    "    \"\\U0001FA70-\\U0001FAFF\"  \n",
    "    \"\\U00002702-\\U000027B0\"  \n",
    "    \"\\U000024C2-\\U0001F251\" \n",
    "    \"]+\", flags = re.UNICODE)\n",
    "    \n",
    "    for i in range(len(text_list)):\n",
    "        \n",
    "        text=text_list[i]   \n",
    "        text = emoToText(text)\n",
    "#        text=emoji.demojize(text)\n",
    "        text = ' '.join(word for word in text.split() if word not in STOPWORDS)           \n",
    "        text = re.sub(r\"http\\S+\", \"\", text)          \n",
    "        text = re.sub('@[^\\s]+','',text)\n",
    "        \n",
    "        remove_digits = str.maketrans('', '', digits) \n",
    "        text = text.translate(remove_digits) \n",
    "\n",
    "        for ele in text:  \n",
    "            if ele in punc:  \n",
    "                text = text.replace(ele, \"\") \n",
    "        text=re.sub('\\s+',' ',text)\n",
    "        text.strip()\n",
    "    \n",
    "        text= regrex_pattern.sub(r'',text)\n",
    "    \n",
    "        text = REPLACE_BY_SPACE_RE.sub(' ', text)\n",
    "        \n",
    "        if text != text:\n",
    "            text_list[i]='garbage'\n",
    "        else:\n",
    "            text_list[i]=text\n",
    "    return text_list"
   ]
  },
  {
   "cell_type": "code",
   "execution_count": 7,
   "metadata": {},
   "outputs": [],
   "source": [
    "def text_preprocessing(df):\n",
    "    df1 = df\n",
    "    df1.fillna(\"Garbage\")\n",
    "    df1.Text=df1.sentence.astype(str)\n",
    "    text_list=df1['sentence'].to_list()\n",
    "    text_list=english_preprocessing(text_list)  \n",
    "    df1['sentence'] = text_list\n",
    "    return df1"
   ]
  },
  {
   "cell_type": "code",
   "execution_count": 9,
   "metadata": {},
   "outputs": [
    {
     "name": "stderr",
     "output_type": "stream",
     "text": [
      "/home/mane1/.local/lib/python3.7/site-packages/ipykernel_launcher.py:4: UserWarning: Pandas doesn't allow columns to be created via a new attribute name - see https://pandas.pydata.org/pandas-docs/stable/indexing.html#attribute-access\n",
      "  after removing the cwd from sys.path.\n"
     ]
    }
   ],
   "source": [
    "train = text_preprocessing(train)\n",
    "val = text_preprocessing(val)\n",
    "test = text_preprocessing(test)"
   ]
  },
  {
   "cell_type": "code",
   "execution_count": 10,
   "metadata": {},
   "outputs": [],
   "source": [
    "train.to_pickle('preprocessed_data/train.pkl')\n",
    "val.to_pickle('preprocessed_data/val.pkl')\n",
    "test.to_pickle('preprocessed_data/test.pkl')"
   ]
  },
  {
   "cell_type": "code",
   "execution_count": 5,
   "metadata": {},
   "outputs": [],
   "source": [
    "train = pd.read_pickle('preprocessed_data/train.pkl')\n",
    "val = pd.read_pickle('preprocessed_data/val.pkl')\n",
    "test = pd.read_pickle('preprocessed_data/test.pkl')"
   ]
  },
  {
   "cell_type": "code",
   "execution_count": 6,
   "metadata": {},
   "outputs": [],
   "source": [
    "# 1 = NAG (non aggresive), 0 = AG (aggresive)\n",
    "\n",
    "le = preprocessing.LabelEncoder()\n",
    "le.fit(train.label)\n",
    "\n",
    "train['label'] = le.transform(train['label'])\n",
    "val['label'] = le.transform(val['label'])\n",
    "test['label'] = le.transform(test['label'])\n",
    "\n",
    "#le.inverse_transform(test['label'])"
   ]
  },
  {
   "cell_type": "code",
   "execution_count": 7,
   "metadata": {},
   "outputs": [],
   "source": [
    "train_dataset = Dataset(pa.Table.from_pandas(train))\n",
    "val_dataset = Dataset(pa.Table.from_pandas(val))\n",
    "test_dataset = Dataset(pa.Table.from_pandas(test))"
   ]
  },
  {
   "cell_type": "code",
   "execution_count": 8,
   "metadata": {},
   "outputs": [
    {
     "data": {
      "application/vnd.jupyter.widget-view+json": {
       "model_id": "3729604f2b874f2b97068cc9aec37e06",
       "version_major": 2,
       "version_minor": 0
      },
      "text/plain": [
       "  0%|          | 0/12 [00:00<?, ?ba/s]"
      ]
     },
     "metadata": {},
     "output_type": "display_data"
    },
    {
     "data": {
      "application/vnd.jupyter.widget-view+json": {
       "model_id": "1236074c42954ebbadcec7e4f3d380f2",
       "version_major": 2,
       "version_minor": 0
      },
      "text/plain": [
       "  0%|          | 0/4 [00:00<?, ?ba/s]"
      ]
     },
     "metadata": {},
     "output_type": "display_data"
    },
    {
     "data": {
      "application/vnd.jupyter.widget-view+json": {
       "model_id": "45c53be94a4f4cfc967c5c66a34367f1",
       "version_major": 2,
       "version_minor": 0
      },
      "text/plain": [
       "  0%|          | 0/1 [00:00<?, ?ba/s]"
      ]
     },
     "metadata": {},
     "output_type": "display_data"
    }
   ],
   "source": [
    "train_dataset = train_dataset.map(lambda examples: {'labels': examples['label']}, batched=True)\n",
    "val_dataset = val_dataset.map(lambda examples: {'labels': examples['label']}, batched=True)\n",
    "test_dataset = test_dataset.map(lambda examples: {'labels': examples['label']}, batched=True)\n",
    "val_dataset = val_dataset.remove_columns(['label'])\n",
    "test_dataset = test_dataset.remove_columns(['label'])\n",
    "train_dataset = train_dataset.remove_columns(['label'])"
   ]
  },
  {
   "cell_type": "code",
   "execution_count": 9,
   "metadata": {},
   "outputs": [
    {
     "name": "stderr",
     "output_type": "stream",
     "text": [
      "Some weights of the model checkpoint at bert-base-uncased were not used when initializing BertForSequenceClassification: ['cls.predictions.transform.dense.weight', 'cls.predictions.bias', 'cls.seq_relationship.weight', 'cls.predictions.decoder.weight', 'cls.seq_relationship.bias', 'cls.predictions.transform.LayerNorm.weight', 'cls.predictions.transform.LayerNorm.bias', 'cls.predictions.transform.dense.bias']\n",
      "- This IS expected if you are initializing BertForSequenceClassification from the checkpoint of a model trained on another task or with another architecture (e.g. initializing a BertForSequenceClassification model from a BertForPreTraining model).\n",
      "- This IS NOT expected if you are initializing BertForSequenceClassification from the checkpoint of a model that you expect to be exactly identical (initializing a BertForSequenceClassification model from a BertForSequenceClassification model).\n",
      "Some weights of BertForSequenceClassification were not initialized from the model checkpoint at bert-base-uncased and are newly initialized: ['classifier.weight', 'classifier.bias']\n",
      "You should probably TRAIN this model on a down-stream task to be able to use it for predictions and inference.\n"
     ]
    }
   ],
   "source": [
    "model = BertForSequenceClassification.from_pretrained('bert-base-uncased')\n",
    "#, attention_probs_dropout_prob=0.3,hidden_dropout_prob=0.3)\n",
    "tokenizer = BertTokenizer.from_pretrained('bert-base-uncased')"
   ]
  },
  {
   "cell_type": "code",
   "execution_count": 10,
   "metadata": {},
   "outputs": [
    {
     "data": {
      "application/vnd.jupyter.widget-view+json": {
       "model_id": "21cc2e81179d4bf89c6f43ccdb870762",
       "version_major": 2,
       "version_minor": 0
      },
      "text/plain": [
       "  0%|          | 0/12 [00:00<?, ?ba/s]"
      ]
     },
     "metadata": {},
     "output_type": "display_data"
    },
    {
     "data": {
      "application/vnd.jupyter.widget-view+json": {
       "model_id": "5474510b1ad74bebbf7393766697a71d",
       "version_major": 2,
       "version_minor": 0
      },
      "text/plain": [
       "  0%|          | 0/4 [00:00<?, ?ba/s]"
      ]
     },
     "metadata": {},
     "output_type": "display_data"
    },
    {
     "data": {
      "application/vnd.jupyter.widget-view+json": {
       "model_id": "a135380d9dd74bf5a8ea154f8f4bfdf7",
       "version_major": 2,
       "version_minor": 0
      },
      "text/plain": [
       "  0%|          | 0/1 [00:00<?, ?ba/s]"
      ]
     },
     "metadata": {},
     "output_type": "display_data"
    }
   ],
   "source": [
    "MAX_LENGTH = 128\n",
    "train_dataset = train_dataset.map(lambda e: tokenizer(e['sentence'], truncation=True, padding='max_length', max_length=MAX_LENGTH), batched=True)\n",
    "val_dataset = val_dataset.map(lambda e: tokenizer(e['sentence'], truncation=True, padding='max_length', max_length=MAX_LENGTH), batched=True)\n",
    "test_dataset = test_dataset.map(lambda e: tokenizer(e['sentence'], truncation=True, padding='max_length', max_length=MAX_LENGTH), batched=True)"
   ]
  },
  {
   "cell_type": "code",
   "execution_count": 11,
   "metadata": {},
   "outputs": [],
   "source": [
    "train_dataset.set_format(type='torch', columns=['input_ids', 'token_type_ids', 'attention_mask', 'labels'])\n",
    "val_dataset.set_format(type='torch', columns=['input_ids', 'token_type_ids', 'attention_mask', 'labels'])\n",
    "test_dataset.set_format(type='torch', columns=['input_ids', 'token_type_ids', 'attention_mask', 'labels'])"
   ]
  },
  {
   "cell_type": "code",
   "execution_count": 12,
   "metadata": {},
   "outputs": [],
   "source": [
    "def compute_metrics(pred):\n",
    "    labels = pred.label_ids\n",
    "    preds = pred.predictions.argmax(-1)\n",
    "    precision, recall, f1, _ = precision_recall_fscore_support(labels, preds, average='macro')\n",
    "    acc = accuracy_score(labels, preds)\n",
    "    return {\n",
    "        'accuracy': acc,\n",
    "        'f1': f1,\n",
    "        'precision': precision,\n",
    "        'recall': recall\n",
    "    }"
   ]
  },
  {
   "cell_type": "code",
   "execution_count": 13,
   "metadata": {},
   "outputs": [
    {
     "name": "stderr",
     "output_type": "stream",
     "text": [
      "The following columns in the training set  don't have a corresponding argument in `BertForSequenceClassification.forward` and have been ignored: ID, sentence.\n",
      "***** Running training *****\n",
      "  Num examples = 11999\n",
      "  Num Epochs = 5\n",
      "  Instantaneous batch size per device = 32\n",
      "  Total train batch size (w. parallel, distributed & accumulation) = 32\n",
      "  Gradient Accumulation steps = 1\n",
      "  Total optimization steps = 1875\n",
      "Automatic Weights & Biases logging enabled, to disable set os.environ[\"WANDB_DISABLED\"] = \"true\"\n",
      "\u001b[34m\u001b[1mwandb\u001b[0m: Currently logged in as: \u001b[33mmane\u001b[0m (use `wandb login --relogin` to force relogin)\n",
      "2022-05-01 21:03:07.619444: W tensorflow/stream_executor/platform/default/dso_loader.cc:64] Could not load dynamic library 'libcudart.so.11.0'; dlerror: libcudart.so.11.0: cannot open shared object file: No such file or directory\n",
      "2022-05-01 21:03:07.619478: I tensorflow/stream_executor/cuda/cudart_stub.cc:29] Ignore above cudart dlerror if you do not have a GPU set up on your machine.\n"
     ]
    },
    {
     "data": {
      "text/html": [
       "Tracking run with wandb version 0.12.15"
      ],
      "text/plain": [
       "<IPython.core.display.HTML object>"
      ]
     },
     "metadata": {},
     "output_type": "display_data"
    },
    {
     "data": {
      "text/html": [
       "Run data is saved locally in <code>/home/mane1/DL/DL_project/Agg-distillBERT-C2/wandb/run-20220501_210305-1mewx6im</code>"
      ],
      "text/plain": [
       "<IPython.core.display.HTML object>"
      ]
     },
     "metadata": {},
     "output_type": "display_data"
    },
    {
     "data": {
      "text/html": [
       "Syncing run <strong><a href=\"https://wandb.ai/mane/huggingface/runs/1mewx6im\" target=\"_blank\">results</a></strong> to <a href=\"https://wandb.ai/mane/huggingface\" target=\"_blank\">Weights & Biases</a> (<a href=\"https://wandb.me/run\" target=\"_blank\">docs</a>)<br/>"
      ],
      "text/plain": [
       "<IPython.core.display.HTML object>"
      ]
     },
     "metadata": {},
     "output_type": "display_data"
    },
    {
     "data": {
      "text/html": [
       "\n",
       "    <div>\n",
       "      \n",
       "      <progress value='1875' max='1875' style='width:300px; height:20px; vertical-align: middle;'></progress>\n",
       "      [1875/1875 26:45, Epoch 5/5]\n",
       "    </div>\n",
       "    <table border=\"1\" class=\"dataframe\">\n",
       "  <thead>\n",
       "    <tr style=\"text-align: left;\">\n",
       "      <th>Step</th>\n",
       "      <th>Training Loss</th>\n",
       "      <th>Validation Loss</th>\n",
       "      <th>Accuracy</th>\n",
       "      <th>F1</th>\n",
       "      <th>Precision</th>\n",
       "      <th>Recall</th>\n",
       "    </tr>\n",
       "  </thead>\n",
       "  <tbody>\n",
       "    <tr>\n",
       "      <td>100</td>\n",
       "      <td>0.603300</td>\n",
       "      <td>0.579379</td>\n",
       "      <td>0.731090</td>\n",
       "      <td>0.700292</td>\n",
       "      <td>0.741587</td>\n",
       "      <td>0.696064</td>\n",
       "    </tr>\n",
       "    <tr>\n",
       "      <td>200</td>\n",
       "      <td>0.568800</td>\n",
       "      <td>0.525658</td>\n",
       "      <td>0.748417</td>\n",
       "      <td>0.740063</td>\n",
       "      <td>0.740153</td>\n",
       "      <td>0.739975</td>\n",
       "    </tr>\n",
       "    <tr>\n",
       "      <td>300</td>\n",
       "      <td>0.564800</td>\n",
       "      <td>0.513579</td>\n",
       "      <td>0.755082</td>\n",
       "      <td>0.744235</td>\n",
       "      <td>0.747780</td>\n",
       "      <td>0.741950</td>\n",
       "    </tr>\n",
       "    <tr>\n",
       "      <td>400</td>\n",
       "      <td>0.505400</td>\n",
       "      <td>0.566193</td>\n",
       "      <td>0.757414</td>\n",
       "      <td>0.739791</td>\n",
       "      <td>0.757009</td>\n",
       "      <td>0.734358</td>\n",
       "    </tr>\n",
       "    <tr>\n",
       "      <td>500</td>\n",
       "      <td>0.422800</td>\n",
       "      <td>0.541318</td>\n",
       "      <td>0.756748</td>\n",
       "      <td>0.739173</td>\n",
       "      <td>0.756125</td>\n",
       "      <td>0.733792</td>\n",
       "    </tr>\n",
       "    <tr>\n",
       "      <td>600</td>\n",
       "      <td>0.430200</td>\n",
       "      <td>0.508527</td>\n",
       "      <td>0.749750</td>\n",
       "      <td>0.740987</td>\n",
       "      <td>0.741532</td>\n",
       "      <td>0.740493</td>\n",
       "    </tr>\n",
       "    <tr>\n",
       "      <td>700</td>\n",
       "      <td>0.393100</td>\n",
       "      <td>0.536049</td>\n",
       "      <td>0.751749</td>\n",
       "      <td>0.743186</td>\n",
       "      <td>0.743599</td>\n",
       "      <td>0.742803</td>\n",
       "    </tr>\n",
       "    <tr>\n",
       "      <td>800</td>\n",
       "      <td>0.328100</td>\n",
       "      <td>0.705731</td>\n",
       "      <td>0.758414</td>\n",
       "      <td>0.739532</td>\n",
       "      <td>0.760048</td>\n",
       "      <td>0.733734</td>\n",
       "    </tr>\n",
       "    <tr>\n",
       "      <td>900</td>\n",
       "      <td>0.253000</td>\n",
       "      <td>0.611353</td>\n",
       "      <td>0.745085</td>\n",
       "      <td>0.737319</td>\n",
       "      <td>0.736818</td>\n",
       "      <td>0.737883</td>\n",
       "    </tr>\n",
       "    <tr>\n",
       "      <td>1000</td>\n",
       "      <td>0.224800</td>\n",
       "      <td>0.678870</td>\n",
       "      <td>0.759414</td>\n",
       "      <td>0.745612</td>\n",
       "      <td>0.754856</td>\n",
       "      <td>0.741454</td>\n",
       "    </tr>\n",
       "    <tr>\n",
       "      <td>1100</td>\n",
       "      <td>0.237000</td>\n",
       "      <td>0.640692</td>\n",
       "      <td>0.736754</td>\n",
       "      <td>0.731622</td>\n",
       "      <td>0.730217</td>\n",
       "      <td>0.735476</td>\n",
       "    </tr>\n",
       "    <tr>\n",
       "      <td>1200</td>\n",
       "      <td>0.146000</td>\n",
       "      <td>0.949026</td>\n",
       "      <td>0.752416</td>\n",
       "      <td>0.737736</td>\n",
       "      <td>0.747668</td>\n",
       "      <td>0.733552</td>\n",
       "    </tr>\n",
       "    <tr>\n",
       "      <td>1300</td>\n",
       "      <td>0.111300</td>\n",
       "      <td>0.923768</td>\n",
       "      <td>0.750083</td>\n",
       "      <td>0.735043</td>\n",
       "      <td>0.745319</td>\n",
       "      <td>0.730836</td>\n",
       "    </tr>\n",
       "    <tr>\n",
       "      <td>1400</td>\n",
       "      <td>0.125100</td>\n",
       "      <td>0.904083</td>\n",
       "      <td>0.741420</td>\n",
       "      <td>0.732800</td>\n",
       "      <td>0.732917</td>\n",
       "      <td>0.732686</td>\n",
       "    </tr>\n",
       "    <tr>\n",
       "      <td>1500</td>\n",
       "      <td>0.139500</td>\n",
       "      <td>0.884242</td>\n",
       "      <td>0.740753</td>\n",
       "      <td>0.733503</td>\n",
       "      <td>0.732585</td>\n",
       "      <td>0.734698</td>\n",
       "    </tr>\n",
       "    <tr>\n",
       "      <td>1600</td>\n",
       "      <td>0.080300</td>\n",
       "      <td>1.185320</td>\n",
       "      <td>0.747084</td>\n",
       "      <td>0.731178</td>\n",
       "      <td>0.742664</td>\n",
       "      <td>0.726818</td>\n",
       "    </tr>\n",
       "    <tr>\n",
       "      <td>1700</td>\n",
       "      <td>0.051900</td>\n",
       "      <td>1.216428</td>\n",
       "      <td>0.743086</td>\n",
       "      <td>0.733679</td>\n",
       "      <td>0.734634</td>\n",
       "      <td>0.732873</td>\n",
       "    </tr>\n",
       "    <tr>\n",
       "      <td>1800</td>\n",
       "      <td>0.077500</td>\n",
       "      <td>1.121481</td>\n",
       "      <td>0.740753</td>\n",
       "      <td>0.731504</td>\n",
       "      <td>0.732199</td>\n",
       "      <td>0.730894</td>\n",
       "    </tr>\n",
       "  </tbody>\n",
       "</table><p>"
      ],
      "text/plain": [
       "<IPython.core.display.HTML object>"
      ]
     },
     "metadata": {},
     "output_type": "display_data"
    },
    {
     "name": "stderr",
     "output_type": "stream",
     "text": [
      "The following columns in the evaluation set  don't have a corresponding argument in `BertForSequenceClassification.forward` and have been ignored: ID, sentence.\n",
      "***** Running Evaluation *****\n",
      "  Num examples = 3001\n",
      "  Batch size = 32\n",
      "Saving model checkpoint to results/checkpoint-100\n",
      "Configuration saved in results/checkpoint-100/config.json\n",
      "Model weights saved in results/checkpoint-100/pytorch_model.bin\n",
      "The following columns in the evaluation set  don't have a corresponding argument in `BertForSequenceClassification.forward` and have been ignored: ID, sentence.\n",
      "***** Running Evaluation *****\n",
      "  Num examples = 3001\n",
      "  Batch size = 32\n",
      "Saving model checkpoint to results/checkpoint-200\n",
      "Configuration saved in results/checkpoint-200/config.json\n",
      "Model weights saved in results/checkpoint-200/pytorch_model.bin\n",
      "The following columns in the evaluation set  don't have a corresponding argument in `BertForSequenceClassification.forward` and have been ignored: ID, sentence.\n",
      "***** Running Evaluation *****\n",
      "  Num examples = 3001\n",
      "  Batch size = 32\n",
      "Saving model checkpoint to results/checkpoint-300\n",
      "Configuration saved in results/checkpoint-300/config.json\n",
      "Model weights saved in results/checkpoint-300/pytorch_model.bin\n",
      "The following columns in the evaluation set  don't have a corresponding argument in `BertForSequenceClassification.forward` and have been ignored: ID, sentence.\n",
      "***** Running Evaluation *****\n",
      "  Num examples = 3001\n",
      "  Batch size = 32\n",
      "Saving model checkpoint to results/checkpoint-400\n",
      "Configuration saved in results/checkpoint-400/config.json\n",
      "Model weights saved in results/checkpoint-400/pytorch_model.bin\n",
      "The following columns in the evaluation set  don't have a corresponding argument in `BertForSequenceClassification.forward` and have been ignored: ID, sentence.\n",
      "***** Running Evaluation *****\n",
      "  Num examples = 3001\n",
      "  Batch size = 32\n",
      "Saving model checkpoint to results/checkpoint-500\n",
      "Configuration saved in results/checkpoint-500/config.json\n",
      "Model weights saved in results/checkpoint-500/pytorch_model.bin\n",
      "The following columns in the evaluation set  don't have a corresponding argument in `BertForSequenceClassification.forward` and have been ignored: ID, sentence.\n",
      "***** Running Evaluation *****\n",
      "  Num examples = 3001\n",
      "  Batch size = 32\n",
      "Saving model checkpoint to results/checkpoint-600\n",
      "Configuration saved in results/checkpoint-600/config.json\n",
      "Model weights saved in results/checkpoint-600/pytorch_model.bin\n",
      "The following columns in the evaluation set  don't have a corresponding argument in `BertForSequenceClassification.forward` and have been ignored: ID, sentence.\n",
      "***** Running Evaluation *****\n",
      "  Num examples = 3001\n",
      "  Batch size = 32\n",
      "Saving model checkpoint to results/checkpoint-700\n",
      "Configuration saved in results/checkpoint-700/config.json\n",
      "Model weights saved in results/checkpoint-700/pytorch_model.bin\n",
      "The following columns in the evaluation set  don't have a corresponding argument in `BertForSequenceClassification.forward` and have been ignored: ID, sentence.\n",
      "***** Running Evaluation *****\n",
      "  Num examples = 3001\n",
      "  Batch size = 32\n",
      "Saving model checkpoint to results/checkpoint-800\n",
      "Configuration saved in results/checkpoint-800/config.json\n",
      "Model weights saved in results/checkpoint-800/pytorch_model.bin\n",
      "The following columns in the evaluation set  don't have a corresponding argument in `BertForSequenceClassification.forward` and have been ignored: ID, sentence.\n",
      "***** Running Evaluation *****\n",
      "  Num examples = 3001\n",
      "  Batch size = 32\n",
      "Saving model checkpoint to results/checkpoint-900\n",
      "Configuration saved in results/checkpoint-900/config.json\n",
      "Model weights saved in results/checkpoint-900/pytorch_model.bin\n",
      "The following columns in the evaluation set  don't have a corresponding argument in `BertForSequenceClassification.forward` and have been ignored: ID, sentence.\n",
      "***** Running Evaluation *****\n",
      "  Num examples = 3001\n",
      "  Batch size = 32\n",
      "Saving model checkpoint to results/checkpoint-1000\n",
      "Configuration saved in results/checkpoint-1000/config.json\n",
      "Model weights saved in results/checkpoint-1000/pytorch_model.bin\n",
      "The following columns in the evaluation set  don't have a corresponding argument in `BertForSequenceClassification.forward` and have been ignored: ID, sentence.\n",
      "***** Running Evaluation *****\n",
      "  Num examples = 3001\n",
      "  Batch size = 32\n",
      "Saving model checkpoint to results/checkpoint-1100\n",
      "Configuration saved in results/checkpoint-1100/config.json\n",
      "Model weights saved in results/checkpoint-1100/pytorch_model.bin\n",
      "The following columns in the evaluation set  don't have a corresponding argument in `BertForSequenceClassification.forward` and have been ignored: ID, sentence.\n",
      "***** Running Evaluation *****\n",
      "  Num examples = 3001\n",
      "  Batch size = 32\n",
      "Saving model checkpoint to results/checkpoint-1200\n",
      "Configuration saved in results/checkpoint-1200/config.json\n",
      "Model weights saved in results/checkpoint-1200/pytorch_model.bin\n",
      "The following columns in the evaluation set  don't have a corresponding argument in `BertForSequenceClassification.forward` and have been ignored: ID, sentence.\n",
      "***** Running Evaluation *****\n",
      "  Num examples = 3001\n",
      "  Batch size = 32\n",
      "Saving model checkpoint to results/checkpoint-1300\n",
      "Configuration saved in results/checkpoint-1300/config.json\n",
      "Model weights saved in results/checkpoint-1300/pytorch_model.bin\n",
      "The following columns in the evaluation set  don't have a corresponding argument in `BertForSequenceClassification.forward` and have been ignored: ID, sentence.\n",
      "***** Running Evaluation *****\n",
      "  Num examples = 3001\n",
      "  Batch size = 32\n",
      "Saving model checkpoint to results/checkpoint-1400\n",
      "Configuration saved in results/checkpoint-1400/config.json\n",
      "Model weights saved in results/checkpoint-1400/pytorch_model.bin\n",
      "The following columns in the evaluation set  don't have a corresponding argument in `BertForSequenceClassification.forward` and have been ignored: ID, sentence.\n",
      "***** Running Evaluation *****\n",
      "  Num examples = 3001\n",
      "  Batch size = 32\n",
      "Saving model checkpoint to results/checkpoint-1500\n",
      "Configuration saved in results/checkpoint-1500/config.json\n",
      "Model weights saved in results/checkpoint-1500/pytorch_model.bin\n",
      "The following columns in the evaluation set  don't have a corresponding argument in `BertForSequenceClassification.forward` and have been ignored: ID, sentence.\n",
      "***** Running Evaluation *****\n",
      "  Num examples = 3001\n",
      "  Batch size = 32\n",
      "Saving model checkpoint to results/checkpoint-1600\n",
      "Configuration saved in results/checkpoint-1600/config.json\n",
      "Model weights saved in results/checkpoint-1600/pytorch_model.bin\n",
      "The following columns in the evaluation set  don't have a corresponding argument in `BertForSequenceClassification.forward` and have been ignored: ID, sentence.\n",
      "***** Running Evaluation *****\n",
      "  Num examples = 3001\n",
      "  Batch size = 32\n",
      "Saving model checkpoint to results/checkpoint-1700\n",
      "Configuration saved in results/checkpoint-1700/config.json\n",
      "Model weights saved in results/checkpoint-1700/pytorch_model.bin\n",
      "The following columns in the evaluation set  don't have a corresponding argument in `BertForSequenceClassification.forward` and have been ignored: ID, sentence.\n",
      "***** Running Evaluation *****\n",
      "  Num examples = 3001\n",
      "  Batch size = 32\n",
      "Saving model checkpoint to results/checkpoint-1800\n",
      "Configuration saved in results/checkpoint-1800/config.json\n",
      "Model weights saved in results/checkpoint-1800/pytorch_model.bin\n",
      "\n",
      "\n",
      "Training completed. Do not forget to share your model on huggingface.co/models =)\n",
      "\n",
      "\n",
      "Loading best model from results/checkpoint-600 (score: 0.5085268020629883).\n"
     ]
    }
   ],
   "source": [
    "#start training\n",
    "training_args = TrainingArguments(          \n",
    "    #output directory\n",
    "    learning_rate=1e-4,\n",
    "    num_train_epochs=5,              \n",
    "    per_device_train_batch_size=32,                #batch size per device during training\n",
    "    per_device_eval_batch_size=32,                #batch size for evaluation\n",
    "    output_dir='results',\n",
    "    logging_dir='logs',            \n",
    "    logging_steps=100,\n",
    "    do_train=True,\n",
    "    do_eval=True,\n",
    "    no_cuda=False,\n",
    "    load_best_model_at_end=True,\n",
    "    evaluation_strategy=\"steps\")\n",
    "\n",
    "trainer = Trainer(\n",
    "    model=model,                         \n",
    "    args=training_args,                  \n",
    "    train_dataset=train_dataset,         \n",
    "    eval_dataset=val_dataset,            \n",
    "    compute_metrics=compute_metrics)\n",
    "\n",
    "train_out = trainer.train()\n",
    "\n",
    "#after training, you could find traing logs and checpoints in your own dirve. also you can reset the file address in training args\n",
    "\n",
    "torch.save(model.state_dict(), 'agg_teacher_model.pt')"
   ]
  },
  {
   "cell_type": "markdown",
   "metadata": {},
   "source": [
    "# Start distillation"
   ]
  },
  {
   "cell_type": "code",
   "execution_count": 22,
   "metadata": {},
   "outputs": [],
   "source": [
    "from torch.utils.data import DataLoader, RandomSampler\n",
    "train_dataloader = DataLoader(train_dataset, sampler=RandomSampler(train_dataset), batch_size=32) #prepare dataloader"
   ]
  },
  {
   "cell_type": "code",
   "execution_count": 23,
   "metadata": {},
   "outputs": [],
   "source": [
    "import textbrewer\n",
    "from textbrewer import GeneralDistiller\n",
    "from textbrewer import TrainingConfig, DistillationConfig\n",
    "from transformers import BertForSequenceClassification, BertConfig, AdamW,BertTokenizer\n",
    "from transformers import get_linear_schedule_with_warmup"
   ]
  },
  {
   "cell_type": "code",
   "execution_count": 25,
   "metadata": {},
   "outputs": [],
   "source": [
    "bert_config_T3 = BertConfig.from_json_file('student_config/bert_config_L3.json')#相对路径\n",
    "bert_config_T3.output_hidden_states = True\n",
    "\n",
    "student_model = BertForSequenceClassification(bert_config_T3) #, num_labels = 2\n",
    "student_model.to(device=device)\n",
    "\n",
    "\n",
    "bert_config = BertConfig.from_json_file('student_config/bert_config.json')\n",
    "bert_config.output_hidden_states = True\n",
    "teacher_model = BertForSequenceClassification(bert_config) #, num_labels = 2\n",
    "teacher_model.load_state_dict(torch.load('agg_teacher_model.pt'))\n",
    "teacher_model.to(device=device)"
   ]
  },
  {
   "cell_type": "code",
   "execution_count": 17,
   "metadata": {},
   "outputs": [],
   "source": [
    "num_epochs = 20\n",
    "num_training_steps = len(train_dataloader) * num_epochs\n",
    "# Optimizer and learning rate scheduler\n",
    "optimizer = AdamW(student_model.parameters(), lr=1e-4)\n",
    "\n",
    "scheduler_class = get_linear_schedule_with_warmup\n",
    "# arguments dict except 'optimizer'\n",
    "scheduler_args = {'num_warmup_steps':int(0.1*num_training_steps), 'num_training_steps':num_training_steps}\n",
    "\n",
    "\n",
    "def simple_adaptor(batch, model_outputs):\n",
    "    return {'logits': model_outputs.logits, 'hidden': model_outputs.hidden_states}\n",
    "\n",
    "distill_config = DistillationConfig(\n",
    "    intermediate_matches=[    \n",
    "     {'layer_T':0, 'layer_S':0, 'feature':'hidden', 'loss': 'hidden_mse','weight' : 1},\n",
    "     {'layer_T':8, 'layer_S':2, 'feature':'hidden', 'loss': 'hidden_mse','weight' : 1}])\n",
    "train_config = TrainingConfig()\n",
    "\n",
    "distiller = GeneralDistiller(\n",
    "    train_config=train_config, distill_config=distill_config,\n",
    "    model_T=teacher_model, model_S=student_model, \n",
    "    adaptor_T=simple_adaptor, adaptor_S=simple_adaptor)\n",
    "\n",
    "\n",
    "with distiller:\n",
    "    distiller.train(optimizer, train_dataloader, num_epochs, scheduler_class=scheduler_class, scheduler_args = scheduler_args, callback=None)"
   ]
  },
  {
   "cell_type": "code",
   "execution_count": 18,
   "metadata": {},
   "outputs": [],
   "source": [
    "test_model = BertForSequenceClassification(bert_config_T3)"
   ]
  },
  {
   "cell_type": "code",
   "execution_count": 19,
   "metadata": {},
   "outputs": [
    {
     "data": {
      "text/plain": [
       "<All keys matched successfully>"
      ]
     },
     "execution_count": 19,
     "metadata": {},
     "output_type": "execute_result"
    }
   ],
   "source": [
    "test_model.load_state_dict(torch.load('saved_models/gs7500.pkl')) #gs4210 is the distilled model weights file"
   ]
  },
  {
   "cell_type": "code",
   "execution_count": 20,
   "metadata": {},
   "outputs": [],
   "source": [
    "from torch.utils.data import DataLoader\n",
    "eval_dataloader = DataLoader(val_dataset, batch_size=8)"
   ]
  },
  {
   "cell_type": "code",
   "execution_count": 21,
   "metadata": {},
   "outputs": [
    {
     "data": {
      "text/plain": [
       "{'accuracy': 0.7484171942685771}"
      ]
     },
     "execution_count": 21,
     "metadata": {},
     "output_type": "execute_result"
    },
    {
     "name": "stderr",
     "output_type": "stream",
     "text": [
      "wandb: Network error (ReadTimeout), entering retry loop.\n"
     ]
    }
   ],
   "source": [
    "metric= load_metric(\"accuracy\")\n",
    "test_model.eval()\n",
    "for batch in eval_dataloader:\n",
    "    batch = {k: v for k, v in batch.items()}\n",
    "    with torch.no_grad():\n",
    "        outputs = test_model(**batch)\n",
    "\n",
    "    logits = outputs.logits\n",
    "    predictions = torch.argmax(logits, dim=-1)\n",
    "    metric.add_batch(predictions=predictions, references=batch[\"labels\"])\n",
    "\n",
    "metric.compute()"
   ]
  },
  {
   "cell_type": "code",
   "execution_count": null,
   "metadata": {},
   "outputs": [],
   "source": []
  },
  {
   "cell_type": "code",
   "execution_count": null,
   "metadata": {},
   "outputs": [],
   "source": []
  },
  {
   "cell_type": "code",
   "execution_count": null,
   "metadata": {},
   "outputs": [],
   "source": []
  }
 ],
 "metadata": {
  "kernelspec": {
   "display_name": "Python 3 (ipykernel)",
   "language": "python",
   "name": "python3"
  },
  "language_info": {
   "codemirror_mode": {
    "name": "ipython",
    "version": 3
   },
   "file_extension": ".py",
   "mimetype": "text/x-python",
   "name": "python",
   "nbconvert_exporter": "python",
   "pygments_lexer": "ipython3",
   "version": "3.7.3"
  }
 },
 "nbformat": 4,
 "nbformat_minor": 4
}
